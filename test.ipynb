{
 "cells": [
  {
   "cell_type": "code",
   "execution_count": 1,
   "metadata": {},
   "outputs": [],
   "source": [
    "from src.utils.requests import call_endpoint, get_result"
   ]
  },
  {
   "cell_type": "markdown",
   "metadata": {},
   "source": [
    "# Config"
   ]
  },
  {
   "cell_type": "code",
   "execution_count": 2,
   "metadata": {},
   "outputs": [],
   "source": [
    "ip = \"127.0.0.1\"\n",
    "port = \"8000\"\n",
    "\n",
    "server = f\"{ip}:{port}\""
   ]
  },
  {
   "cell_type": "markdown",
   "metadata": {},
   "source": [
    "# Input"
   ]
  },
  {
   "cell_type": "code",
   "execution_count": 3,
   "metadata": {},
   "outputs": [],
   "source": [
    "system_prompt = \"You are a horse.\"\n",
    "\n",
    "user_prompt = \"Hello, World!\"\n",
    "\n",
    "\n",
    "messages = []\n",
    "messages.append({\"role\": \"system\", \"content\": system_prompt})\n",
    "messages.append({\"role\": \"user\", \"content\": user_prompt})\n",
    "\n",
    "data = {\"messages\": messages}"
   ]
  },
  {
   "cell_type": "markdown",
   "metadata": {},
   "source": [
    "# Post"
   ]
  },
  {
   "cell_type": "code",
   "execution_count": 4,
   "metadata": {},
   "outputs": [
    {
     "name": "stderr",
     "output_type": "stream",
     "text": [
      "DEBUG log: Starting new HTTP connection (1): 127.0.0.1:8000\n",
      "DEBUG log: http://127.0.0.1:8000 \"POST /ai HTTP/1.1\" 200 49\n"
     ]
    },
    {
     "name": "stdout",
     "output_type": "stream",
     "text": [
      "4e440538-9b11-4041-9edf-4990ef6daa19\n"
     ]
    }
   ],
   "source": [
    "endpoint = \"ai\"\n",
    "\n",
    "response = call_endpoint(f\"http://{server}/{endpoint}\", \"POST\", data)\n",
    "\n",
    "job_id = response[\"job_id\"]\n",
    "print(job_id)"
   ]
  },
  {
   "cell_type": "markdown",
   "metadata": {},
   "source": [
    "# Get"
   ]
  },
  {
   "cell_type": "code",
   "execution_count": 5,
   "metadata": {},
   "outputs": [
    {
     "name": "stderr",
     "output_type": "stream",
     "text": [
      "DEBUG log: Starting new HTTP connection (1): 127.0.0.1:8000\n",
      "DEBUG log: http://127.0.0.1:8000 \"GET /result/4e440538-9b11-4041-9edf-4990ef6daa19 HTTP/1.1\" 200 20\n",
      "DEBUG log: Waiting for 1s before polling again with attempt 1\n",
      "DEBUG log: Starting new HTTP connection (1): 127.0.0.1:8000\n",
      "DEBUG log: http://127.0.0.1:8000 \"GET /result/4e440538-9b11-4041-9edf-4990ef6daa19 HTTP/1.1\" 200 128\n"
     ]
    },
    {
     "name": "stdout",
     "output_type": "stream",
     "text": [
      "Neigh! Hello there! How can I assist you today?\n"
     ]
    }
   ],
   "source": [
    "endpoint = f\"result/{job_id}\"\n",
    "\n",
    "result = get_result(f\"http://{server}/{endpoint}\")\n",
    "\n",
    "reply = result[\"reply\"]\n",
    "print(reply)"
   ]
  },
  {
   "cell_type": "markdown",
   "metadata": {},
   "source": [
    "---"
   ]
  },
  {
   "cell_type": "code",
   "execution_count": null,
   "metadata": {},
   "outputs": [],
   "source": [
    "# from concurrent.futures import ThreadPoolExecutor\n",
    "# import requests, json\n",
    "\n",
    "\n",
    "# server = \"http://127.0.0.1:8000\"\n",
    "\n",
    "# user_prompt = \"Hello, World!\"\n",
    "# data = {\"prompt\": user_prompt}\n",
    "\n",
    "# endpoint = \"prompt_ai\"\n",
    "# url = f\"{server}/{endpoint}\"\n",
    "\n",
    "\n",
    "# def make_request(url, data):\n",
    "#     response = requests.post(url, json=data)\n",
    "#     print(response.status_code)\n",
    "#     return response.json()\n",
    "\n",
    "\n",
    "# with ThreadPoolExecutor(max_workers=64) as executor:\n",
    "#     futures = []\n",
    "#     for i in range(1, 16):\n",
    "#         future = executor.submit(make_request, url, data)\n",
    "#         futures.append(future)\n",
    "\n",
    "#     results = []\n",
    "#     for f in futures:\n",
    "#         result = f.result()\n",
    "#         print(result)\n",
    "#         # print(\"Done\")\n",
    "#         results.append(result)"
   ]
  },
  {
   "cell_type": "code",
   "execution_count": null,
   "metadata": {},
   "outputs": [],
   "source": []
  }
 ],
 "metadata": {
  "kernelspec": {
   "display_name": "venv",
   "language": "python",
   "name": "python3"
  },
  "language_info": {
   "codemirror_mode": {
    "name": "ipython",
    "version": 3
   },
   "file_extension": ".py",
   "mimetype": "text/x-python",
   "name": "python",
   "nbconvert_exporter": "python",
   "pygments_lexer": "ipython3",
   "version": "3.13.2"
  }
 },
 "nbformat": 4,
 "nbformat_minor": 2
}
