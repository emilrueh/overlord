{
 "cells": [
  {
   "cell_type": "code",
   "execution_count": null,
   "metadata": {},
   "outputs": [],
   "source": [
    "from src.utils.requests import call_endpoint, call_sse\n",
    "from src.utils.helper import parse_sse"
   ]
  },
  {
   "cell_type": "markdown",
   "metadata": {},
   "source": [
    "# Config"
   ]
  },
  {
   "cell_type": "code",
   "execution_count": null,
   "metadata": {},
   "outputs": [],
   "source": [
    "ip = \"127.0.0.1\"\n",
    "port = \"8000\"\n",
    "\n",
    "server = f\"{ip}:{port}\""
   ]
  },
  {
   "cell_type": "markdown",
   "metadata": {},
   "source": [
    "# Input"
   ]
  },
  {
   "cell_type": "code",
   "execution_count": null,
   "metadata": {},
   "outputs": [],
   "source": [
    "system_prompt = \"You are a horse.\"\n",
    "\n",
    "user_prompt = \"Hello, World!\"\n",
    "\n",
    "\n",
    "messages = []\n",
    "messages.append({\"role\": \"system\", \"content\": system_prompt})\n",
    "messages.append({\"role\": \"user\", \"content\": user_prompt})\n",
    "\n",
    "data = {\"messages\": messages}"
   ]
  },
  {
   "cell_type": "markdown",
   "metadata": {},
   "source": [
    "# Request"
   ]
  },
  {
   "cell_type": "code",
   "execution_count": null,
   "metadata": {},
   "outputs": [],
   "source": [
    "endpoint = \"mock_ai\"\n",
    "\n",
    "response = call_sse(server, endpoint, data)\n",
    "events = parse_sse(response)\n",
    "\n",
    "for event_data in events:\n",
    "    print(event_data)"
   ]
  },
  {
   "cell_type": "markdown",
   "metadata": {},
   "source": [
    "---"
   ]
  },
  {
   "cell_type": "code",
   "execution_count": null,
   "metadata": {},
   "outputs": [],
   "source": [
    "def main():\n",
    "    endpoint = \"ai\"\n",
    "\n",
    "    response = call_sse(server, endpoint, data)\n",
    "    events = parse_sse(response)\n",
    "\n",
    "    for event in events:\n",
    "        print(event)\n",
    "\n",
    "    print()"
   ]
  },
  {
   "cell_type": "code",
   "execution_count": null,
   "metadata": {},
   "outputs": [],
   "source": [
    "from concurrent.futures import ThreadPoolExecutor\n",
    "\n",
    "\n",
    "parallel_requests = 16\n",
    "\n",
    "with ThreadPoolExecutor(max_workers=parallel_requests) as executor:\n",
    "    # Pass the function reference, not the result\n",
    "    futures = [executor.submit(main) for i in range(parallel_requests)]\n",
    "\n",
    "    # Wait for all to complete if needed\n",
    "    for future in futures:\n",
    "        future.result()"
   ]
  }
 ],
 "metadata": {
  "kernelspec": {
   "display_name": "venv",
   "language": "python",
   "name": "python3"
  },
  "language_info": {
   "codemirror_mode": {
    "name": "ipython",
    "version": 3
   },
   "file_extension": ".py",
   "mimetype": "text/x-python",
   "name": "python",
   "nbconvert_exporter": "python",
   "pygments_lexer": "ipython3",
   "version": "3.13.2"
  }
 },
 "nbformat": 4,
 "nbformat_minor": 2
}
